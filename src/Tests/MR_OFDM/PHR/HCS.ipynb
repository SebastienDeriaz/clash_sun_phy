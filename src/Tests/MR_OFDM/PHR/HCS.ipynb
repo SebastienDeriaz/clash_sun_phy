{
 "cells": [
  {
   "cell_type": "markdown",
   "metadata": {},
   "source": [
    "# HCS Calculation (suite)\n",
    "\n",
    "The goal of this mini project is to build the entire HCS calculation (based on the PHR.ipynb mini project)"
   ]
  },
  {
   "cell_type": "code",
   "execution_count": 3,
   "metadata": {},
   "outputs": [
    {
     "name": "stdout",
     "output_type": "stream",
     "text": [
      "A = [0 1 0 0 1 0 1 1]\n"
     ]
    }
   ],
   "source": [
    "import numpy as np\n",
    "from sun_phy.mr_ofdm.fields import HCS_calculation\n",
    "\n",
    "# Constant part (See sun_phy fields.py line 57)\n",
    "# Generator polynomial x^8 + x^2 + x + 1\n",
    "G = np.poly1d([1, 0, 0, 0, 0, 0, 1, 1, 1])\n",
    "# part a)\n",
    "k = np.poly1d(np.block([1, np.zeros(22)]))\n",
    "b = np.poly1d(np.ones(8))\n",
    "c = np.polymul(k, b)\n",
    "_, A = np.polydiv(c, G)\n",
    "A = np.mod(A, 2).astype(int)\n",
    "print(f\"A = {A}\")"
   ]
  },
  {
   "cell_type": "code",
   "execution_count": 33,
   "metadata": {},
   "outputs": [],
   "source": [
    "def HCS_calculation_expand(input_array):\n",
    "    \"\"\"\n",
    "    Applies HCS crc to input array\n",
    "    See 18.2.1.3 PHR\n",
    "\n",
    "    Parameters\n",
    "    ----------\n",
    "    input_array : ndarray\n",
    "        Input values (0 and 1) in a numpy array. [0] is the first element\n",
    "    \n",
    "    Returns\n",
    "    -------\n",
    "    output_array : ndarray\n",
    "        Calculated CRC\n",
    "    \"\"\"\n",
    "    # Generator polynomial x^8 + x^2 + x + 1\n",
    "    G = np.poly1d([1, 0, 0, 0, 0, 0, 1, 1, 1])\n",
    "    # part a)\n",
    "    k = np.poly1d(np.block([1, np.zeros(22)]))\n",
    "    b = np.poly1d(np.ones(8))\n",
    "    c = np.polymul(k, b)\n",
    "    _, A = np.polydiv(c, G)\n",
    "    A = np.mod(A, 2).astype(int)\n",
    "    # part b)\n",
    "    a = np.polymul(np.poly1d(input_array), np.poly1d(np.block([1, np.zeros(8)])))\n",
    "    _, B = np.polydiv(a, G)\n",
    "    # Pad B to have the same size as A (this has been tested and is identical)\n",
    "    if B.order + 1 < 8:\n",
    "        B = np.block([np.zeros(8 - (len(B) + 1)), B])\n",
    "    B = np.mod(B, 2).astype(int)\n",
    "\n",
    "    # one's complement of the modulo-2 sum    \n",
    "    output_array = 1 - np.mod(np.polyadd(A, B), 2)\n",
    "    return A, B, output_array"
   ]
  },
  {
   "cell_type": "code",
   "execution_count": 40,
   "metadata": {},
   "outputs": [
    {
     "name": "stdout",
     "output_type": "stream",
     "text": [
      "[1 0 1 0 0 0 0 1]\n",
      "[1 0 1 0 0 0 0 1]\n"
     ]
    }
   ],
   "source": [
    "# New HCS calculation, synthesizable\n",
    "def HCS_new(message):\n",
    "    #A = np.array([0, 1, 0, 0, 1, 0, 1, 1])\n",
    "    A = 0b01001011\n",
    "\n",
    "    def B_step(B, inp):\n",
    "        msb = (B & (1<<7)) >> 7\n",
    "        return (B << 1 ^ (0b111 * (inp ^ msb))) & 0b1111_1111\n",
    "\n",
    "    B = 0b0000_0000\n",
    "    for m in message:\n",
    "        B = B_step(B, m)\n",
    "\n",
    "    return np.array([int(x) for x in np.binary_repr(A ^ B ^ 0b1111_1111, 8)])\n",
    "\n",
    "\n",
    "message = [1,0,0,0,0,0,0,0,0]\n",
    "hcs_new = HCS_new(message)\n",
    "hcs = HCS_calculation(message)\n",
    "print(hcs)\n",
    "print(hcs_new)"
   ]
  },
  {
   "cell_type": "code",
   "execution_count": 43,
   "metadata": {},
   "outputs": [],
   "source": [
    "for _ in range(10_000):\n",
    "    message = np.random.randint(0,2,22)\n",
    "    hcs_new = HCS_new(message)\n",
    "    hcs = HCS_calculation(message)\n",
    "\n",
    "    assert np.array_equal(hcs, hcs_new)"
   ]
  }
 ],
 "metadata": {
  "kernelspec": {
   "display_name": "Python 3.10.8 ('python')",
   "language": "python",
   "name": "python3"
  },
  "language_info": {
   "codemirror_mode": {
    "name": "ipython",
    "version": 3
   },
   "file_extension": ".py",
   "mimetype": "text/x-python",
   "name": "python",
   "nbconvert_exporter": "python",
   "pygments_lexer": "ipython3",
   "version": "3.10.8"
  },
  "orig_nbformat": 4,
  "vscode": {
   "interpreter": {
    "hash": "b19039b57ab408a75ec292626f0bb4d90d49370d48dc224113c676678d72d8bd"
   }
  }
 },
 "nbformat": 4,
 "nbformat_minor": 2
}
