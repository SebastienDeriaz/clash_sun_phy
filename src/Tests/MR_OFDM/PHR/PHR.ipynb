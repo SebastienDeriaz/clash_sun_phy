{
 "cells": [
  {
   "cell_type": "markdown",
   "metadata": {},
   "source": [
    "# PHR HCS calculation\n",
    "\n",
    "How the heck to calculate this HCS with Clash ?\n",
    "\n",
    "First of all\n",
    "- It's a CRC-8 but not a standard one\n",
    "- It can be run in two parts : A and B. Only B depends on the input and is \"only\" a polynomial division. It's then a simple modulo addition\n",
    "\n",
    "The goal is to find a \"circuit-like\" approach to the B calculation.\n",
    "\n",
    "What has worked ? Making a simulator that uses two matrices :\n",
    "- X : calculate the next state based on the current state (how each register affects the other through xor gates)\n",
    "- B : How the input affects each register\n",
    "\n",
    "Run the simulator one step at a time manually to detect where a xor gate has failed. Then the gate is corrected (either in X or B) and run again\n",
    "\n",
    "When the simulator looks correct, it is automatically tested with ~10'000 different messages against the HCS calculation\n",
    "\n",
    "## Conclusion\n",
    "\n",
    "It worked ! the B calculation is an 8 bit shift register with those equations (for each step):\n",
    "\n",
    "```python\n",
    "# b is the input\n",
    "\n",
    "m0 = b ^ m7\n",
    "m1 = b ^ m7 ^ m0\n",
    "m2 = b ^ m7 ^ m1\n",
    "m3 = m2\n",
    "m4 = m3\n",
    "m5 = m4\n",
    "m6 = m5\n",
    "m7 = m6\n",
    "\n",
    "B = [m7, m6, m5, m4, m3, m2, m1, m0]\n",
    "```\n",
    "\n",
    "\n",
    "\n"
   ]
  },
  {
   "cell_type": "code",
   "execution_count": 4,
   "metadata": {},
   "outputs": [],
   "source": [
    "import numpy as np\n",
    "from numpy import poly1d, polymul, polydiv, polyadd"
   ]
  },
  {
   "cell_type": "code",
   "execution_count": 160,
   "metadata": {},
   "outputs": [],
   "source": [
    "def toHex(arr):\n",
    "    listOutput = np.array([int(f'0b{\"\".join([str(y) for y in x])}', 2) for x in np.reshape(arr, (-1,8))])\n",
    "\n",
    "    if listOutput.size == 1:\n",
    "        return listOutput[0]\n",
    "    else:\n",
    "        return listOutput\n",
    "\n",
    "\n",
    "def HCS_calculation(input_array):\n",
    "    \"\"\"\n",
    "    Applies HCS crc to input array\n",
    "    See 18.2.1.3 PHR\n",
    "\n",
    "    Parameters\n",
    "    ----------\n",
    "    input_array : ndarray\n",
    "        Input values (0 and 1) in a numpy array. [0] is the first element\n",
    "    \n",
    "    Returns\n",
    "    -------\n",
    "    output_array : ndarray\n",
    "        Calculated CRC\n",
    "    \"\"\"\n",
    "    # Generator polynomial x^8 + x^2 + x + 1\n",
    "    G = poly1d([1, 0, 0, 0, 0, 0, 1, 1, 1])\n",
    "    # part a)\n",
    "    k = poly1d(np.block([1, np.zeros(22)]))\n",
    "    b = poly1d(np.ones(8))\n",
    "    c = polymul(k, b)\n",
    "    _, A = polydiv(c, G)\n",
    "    A = np.mod(A, 2).astype(int)\n",
    "    # part b)\n",
    "    a = polymul(poly1d(input_array), poly1d(np.block([1, np.zeros(8)])))\n",
    "    _, B = polydiv(a, G)\n",
    "    # Pad B to have the same size as A (this has been tested and is identical)\n",
    "    if B.order + 1 < 8:\n",
    "        B = np.block([np.zeros(8 - (len(B) + 1)), B])\n",
    "    B = np.mod(B, 2).astype(int)\n",
    "\n",
    "    # one's complement of the modulo-2 sum    \n",
    "    output_array = 1 - np.mod(polyadd(A, B), 2)\n",
    "    return A, B, output_array"
   ]
  },
  {
   "cell_type": "code",
   "execution_count": 170,
   "metadata": {},
   "outputs": [
    {
     "name": "stdout",
     "output_type": "stream",
     "text": [
      "input = []\n",
      "  A = [0 1 0 0 1 0 1 1] (4B)\n",
      "  B = [0 0 0 0 0 0 0 0]\n",
      "  O = [1 0 1 1 0 1 0 0] (B4)\n",
      "input = [1]\n",
      "  A = [0 1 0 0 1 0 1 1] (4B)\n",
      "  B = [0 0 0 0 0 1 1 1]\n",
      "  O = [1 0 1 1 0 0 1 1] (B3)\n",
      "input = [0]\n",
      "  A = [0 1 0 0 1 0 1 1] (4B)\n",
      "  B = [0 0 0 0 0 0 0 0]\n",
      "  O = [1 0 1 1 0 1 0 0] (B4)\n"
     ]
    }
   ],
   "source": [
    "inputs = [\n",
    "    [],\n",
    "    [1],\n",
    "    [0]\n",
    "]\n",
    "\n",
    "for i in inputs:\n",
    "    a = np.array(i)\n",
    "    A, B, O = HCS_calculation(a)\n",
    "    print(f\"input = {i}\")\n",
    "    print(f\"  A = {A} ({toHex(A):02X})\")\n",
    "    print(f\"  B = {B}\")\n",
    "    print(f\"  O = {O} ({toHex(O):02X})\")"
   ]
  },
  {
   "cell_type": "code",
   "execution_count": 258,
   "metadata": {},
   "outputs": [
    {
     "name": "stdout",
     "output_type": "stream",
     "text": [
      "                             i -> B\n",
      "                           [0] -> [0 0 0 0 0 0 0 0]\n",
      "                        [0, 0] -> [0 0 0 0 0 0 0 0]\n",
      "                        [0, 1] -> [0 0 0 0 0 1 1 1]\n",
      "                           [1] -> [0 0 0 0 0 1 1 1]\n",
      "                        [1, 0] -> [0 0 0 0 1 1 1 0]\n",
      "                     [1, 0, 0] -> [0 0 0 1 1 1 0 0]\n",
      "                  [1, 0, 0, 0] -> [0 0 1 1 1 0 0 0]\n",
      "               [1, 0, 0, 0, 0] -> [0 1 1 1 0 0 0 0]\n",
      "            [1, 0, 0, 0, 0, 0] -> [1 1 1 0 0 0 0 0]\n",
      "         [1, 0, 0, 0, 0, 0, 0] -> [1 1 0 0 0 1 1 1]\n",
      "      [1, 0, 0, 0, 0, 0, 0, 0] -> [1 0 0 0 1 0 0 1]\n",
      "   [1, 0, 0, 0, 0, 0, 0, 0, 0] -> [0 0 0 1 0 1 0 1]\n",
      "[1, 0, 0, 0, 0, 0, 0, 0, 0, 1] -> [0 0 1 0 1 1 0 1]\n"
     ]
    }
   ],
   "source": [
    "inputs = [\n",
    "    [0],\n",
    "    [0,0],\n",
    "    [0,1],\n",
    "    [1],\n",
    "    [1,0],\n",
    "    [1,0,0],\n",
    "    [1,0,0,0],\n",
    "    [1,0,0,0,0],\n",
    "    [1,0,0,0,0,0],\n",
    "    [1,0,0,0,0,0,0],\n",
    "    [1,0,0,0,0,0,0,0],\n",
    "    [1,0,0,0,0,0,0,0,0],\n",
    "    [1,0,0,0,0,0,0,0,0,1],\n",
    "]\n",
    "\n",
    "print(f\"{'i':>30} -> B\")\n",
    "for i in inputs:\n",
    "    a = np.array(i)\n",
    "    A, B, O = HCS_calculation(a)\n",
    "    print(f\"{str(i):>30} -> {B}\")"
   ]
  },
  {
   "cell_type": "code",
   "execution_count": 259,
   "metadata": {},
   "outputs": [
    {
     "name": "stdout",
     "output_type": "stream",
     "text": [
      "1 -> [0 0 0 0 0 1 1 1]\n",
      "0 -> [0 0 0 0 1 1 1 0]\n",
      "0 -> [0 0 0 1 1 1 0 0]\n",
      "0 -> [0 0 1 1 1 0 0 0]\n",
      "0 -> [0 1 1 1 0 0 0 0]\n",
      "0 -> [1 1 1 0 0 0 0 0]\n",
      "0 -> [1 1 0 0 0 1 1 1]\n",
      "0 -> [1 0 0 0 1 0 0 1]\n",
      "0 -> [0 0 0 1 0 1 0 1]\n",
      "1 -> [0 0 1 0 1 1 0 1]\n"
     ]
    }
   ],
   "source": [
    "M = np.array([\n",
    "    [0,0,0,0,0,0,0,1], # * xor = m0\n",
    "    [1,0,0,0,0,0,0,1], # * xor = m1\n",
    "    [0,1,0,0,0,0,0,1], # * xor = m2\n",
    "    [0,0,1,0,0,0,0,0], # * xor = m3\n",
    "    [0,0,0,1,0,0,0,0], # * xor = m4\n",
    "    [0,0,0,0,1,0,0,0], # * xor = m5\n",
    "    [0,0,0,0,0,1,0,0], # * xor = m6\n",
    "    [0,0,0,0,0,0,1,0], # * xor = m7\n",
    "])\n",
    "\n",
    "B = np.array([\n",
    "    1, # -> m0\n",
    "    1, # -> m1\n",
    "    1, # -> m2\n",
    "    0, # -> m3\n",
    "    0, # -> m4\n",
    "    0, # -> m5\n",
    "    0, # -> m6\n",
    "    0, # -> m7\n",
    "])\n",
    "# M[0,2] -> m2 in XOR for m0\n",
    "\n",
    "def step(M, B, x, b):\n",
    "    return np.mod(M @ x + B * b, 2)\n",
    "\n",
    "inputs = [1, 0, 0, 0, 0, 0, 0, 0, 0, 1]\n",
    "x0 = np.array([0,0,0,0,0,0,0,0])\n",
    "x = x0.copy()\n",
    "for b in inputs:\n",
    "    x = step(M, B, x, b)\n",
    "    print(f\"{b} -> {x[::-1]}\")"
   ]
  },
  {
   "cell_type": "code",
   "execution_count": 269,
   "metadata": {},
   "outputs": [],
   "source": [
    "for _ in range(10_000):\n",
    "    message = np.random.randint(0,2,22)\n",
    "    _, hcs, _ = HCS_calculation(message)\n",
    "    new = np.zeros(8)\n",
    "    for m in message:\n",
    "        new = step(M, B, new, m)\n",
    "    assert np.array_equal(new[::-1], hcs)\n"
   ]
  },
  {
   "cell_type": "code",
   "execution_count": 141,
   "metadata": {},
   "outputs": [
    {
     "name": "stdout",
     "output_type": "stream",
     "text": [
      "inputs : (10, 8)\n",
      "outputs : (10, 8)\n"
     ]
    }
   ],
   "source": [
    "inputs = []\n",
    "outputs = []\n",
    "\n",
    "for _ in range(10):\n",
    "    inp = np.random.randint(0,2,8)\n",
    "    out = HCS_calculation(inp)[-1]\n",
    "    outStr = ''.join([str(x) for x in out])\n",
    "\n",
    "    inputs.append(inp)\n",
    "    outputs.append(out)\n",
    "\n",
    "outputs = np.stack(outputs, axis=1).T\n",
    "inputs = np.stack(inputs, axis=1).T\n",
    "\n",
    "print(f\"inputs : {inputs.shape}\")\n",
    "print(f\"outputs : {outputs.shape}\")"
   ]
  },
  {
   "cell_type": "code",
   "execution_count": null,
   "metadata": {},
   "outputs": [],
   "source": [
    "xormatrix = np.\n",
    "\n",
    "\n",
    "\n",
    "\n",
    "\n",
    "\n",
    "\n"
   ]
  },
  {
   "cell_type": "code",
   "execution_count": 142,
   "metadata": {},
   "outputs": [
    {
     "name": "stdout",
     "output_type": "stream",
     "text": [
      "[[0 0 1 1 1 1 1 0]\n",
      " [0 0 1 0 0 0 1 0]\n",
      " [0 1 0 0 0 0 1 1]\n",
      " [1 0 0 1 1 1 0 1]\n",
      " [1 0 0 1 0 1 1 1]\n",
      " [0 1 0 0 1 1 1 0]\n",
      " [0 0 1 1 0 0 1 0]\n",
      " [0 0 1 1 1 1 1 1]\n",
      " [0 1 1 0 1 1 0 0]\n",
      " [1 1 1 1 0 1 0 1]]\n",
      "[[1 1 1 0 1 1 0 0]\n",
      " [1 1 1 0 1 0 0 0]\n",
      " [1 0 0 1 0 0 1 0]\n",
      " [0 1 1 0 0 0 1 0]\n",
      " [0 0 0 0 1 1 0 1]\n",
      " [1 1 1 1 1 1 0 0]\n",
      " [0 1 0 1 1 0 1 1]\n",
      " [0 0 1 1 0 1 0 1]\n",
      " [0 0 1 0 1 0 0 0]\n",
      " [0 0 0 1 1 0 1 1]]\n",
      "[0 0 0 0 1 0 1 1 0 1]\n",
      "[0 0 1 1 1 0 0 1 0 1]\n"
     ]
    }
   ],
   "source": [
    "print(outputs)\n",
    "print(inputs)\n",
    "# Check if the last digit of the output is always the same as the last digit of the input\n",
    "print(inputs[:,-1])\n",
    "print(outputs[:,-1])"
   ]
  },
  {
   "cell_type": "code",
   "execution_count": null,
   "metadata": {},
   "outputs": [],
   "source": []
  }
 ],
 "metadata": {
  "kernelspec": {
   "display_name": "Python 3.10.8 ('python')",
   "language": "python",
   "name": "python3"
  },
  "language_info": {
   "codemirror_mode": {
    "name": "ipython",
    "version": 3
   },
   "file_extension": ".py",
   "mimetype": "text/x-python",
   "name": "python",
   "nbconvert_exporter": "python",
   "pygments_lexer": "ipython3",
   "version": "3.10.8"
  },
  "orig_nbformat": 4,
  "vscode": {
   "interpreter": {
    "hash": "b19039b57ab408a75ec292626f0bb4d90d49370d48dc224113c676678d72d8bd"
   }
  }
 },
 "nbformat": 4,
 "nbformat_minor": 2
}
